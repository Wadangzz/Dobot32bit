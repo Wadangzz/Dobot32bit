{
 "cells": [
  {
   "cell_type": "code",
   "execution_count": null,
   "metadata": {},
   "outputs": [],
   "source": [
    "# dType.SetPTPArcParams(api, xyzVelocity, xyzAcceleration, isQueued=1)\n",
    "\n",
    "\n",
    "# dType.SetPTPArcCmd(api,\n",
    "#                    startX, startY, startZ, startR,   # 원호 시작점\n",
    "#                    viaX, viaY, viaZ, viaR,          # 원호의 중간 (Via) 점\n",
    "#                    endX, endY, endZ, endR,          # 원호의 끝점\n",
    "#                    isQueued=1)"
   ]
  },
  {
   "cell_type": "code",
   "execution_count": null,
   "metadata": {},
   "outputs": [],
   "source": [
    "# # Jump 파라미터 설정\n",
    "# dType.SetPTPJumpParams(api, jumpHeight=20, zLimit=150, isQueued=1)\n",
    "\n",
    "# # 이후 SetPTPCmd()로 이동하면, Jump 모션으로 자동 실행됨\n",
    "# dType.SetPTPCmd(api,\n",
    "#                 dType.PTPMode.PTPJUMPXYZMode,\n",
    "#                 200, 0, 0, 0,\n",
    "#                 isQueued=1)"
   ]
  }
 ],
 "metadata": {
  "language_info": {
   "name": "python"
  }
 },
 "nbformat": 4,
 "nbformat_minor": 2
}
